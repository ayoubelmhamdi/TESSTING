{
  "nbformat": 4,
  "nbformat_minor": 0,
  "metadata": {
    "colab": {
      "name": "SSH Ngrok2.ipynb",
      "provenance": [],
      "collapsed_sections": [],
      "authorship_tag": "ABX9TyOwqw2gkyA3jVFrQsj9aQDc",
      "include_colab_link": true
    },
    "kernelspec": {
      "display_name": "Python 3",
      "name": "python3"
    }
  },
  "cells": [
    {
      "cell_type": "markdown",
      "metadata": {
        "id": "view-in-github",
        "colab_type": "text"
      },
      "source": [
        "<a href=\"https://colab.research.google.com/github/ayoubelmhamdi/TESSTING/blob/master/SSH_Ngrok2.ipynb\" target=\"_parent\"><img src=\"https://colab.research.google.com/assets/colab-badge.svg\" alt=\"Open In Colab\"/></a>"
      ]
    },
    {
      "cell_type": "code",
      "metadata": {
        "cellView": "form",
        "id": "9eAZ8m32I1IH"
      },
      "source": [
        "#@title **SSH Ngrok**\n",
        "! pip install colab_ssh --upgrade &> /dev/null \n",
        " \n",
        "Ngrok = True  \n",
        "!echo \"root:root\"   | chpasswd\n",
        " \n",
        "try:\n",
        "    if username:\n",
        "        pass\n",
        "    elif password:\n",
        "        pass\n",
        "except NameError:\n",
        "    #print(\"No user found using username and password as 'root'\")\n",
        "    username='root'\n",
        "    password='root'\n",
        " \n",
        " \n",
        " \n",
        " \n",
        " \n",
        "ngrokToken = \"1oVXOlOBg8Zf5vO2XoSgHzpf6E6_6jrnh4yJzYm2RTYzApjV5\"\n",
        " \n",
        " \n",
        "def runNGROK():\n",
        "    from colab_ssh import launch_ssh\n",
        "    from IPython.display import clear_output\n",
        "    launch_ssh(ngrokToken, password)\n",
        "    clear_output()\n",
        " \n",
        "    print(\"\\nsshpass -p \\'root\\' ssh \\\\\\n  -o UserKnownHostsFile=\\/dev\\/null \\\\\\n  -o StrictHostKeyChecking=no\\\\\\n  \", username, end='@')\n",
        "    !curl -s http://localhost:4040/api/tunnels | python3 -c \\\n",
        "            \"import sys, json; print(json.load(sys.stdin)['tunnels'][0]['public_url'][6:].replace(':', ' -p '))\"\n",
        "    !echo -e \"\\ndone Ayoub\"\n",
        " \n",
        " \n",
        " \n",
        " \n",
        " \n",
        " \n",
        " \n",
        " \n",
        " \n",
        " \n",
        "if Ngrok:\n",
        "    if ngrokToken == \"\":\n",
        "        print(\"No ngrokToken Found, Please enter it\")\n",
        "    else:\n",
        "        runNGROK()"
      ],
      "execution_count": null,
      "outputs": []
    }
  ]
}